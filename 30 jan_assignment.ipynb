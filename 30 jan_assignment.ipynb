{
 "cells": [
  {
   "cell_type": "markdown",
   "id": "29ac63fb-c0a9-4714-ae1e-9bf45bf306ba",
   "metadata": {},
   "source": [
    "Q-1. Write a program to accept percentage from user and user display the grade according to the following criteria"
   ]
  },
  {
   "cell_type": "code",
   "execution_count": 2,
   "id": "4811c45d-e890-4633-a1b4-c00670aab6e8",
   "metadata": {},
   "outputs": [
    {
     "name": "stdin",
     "output_type": "stream",
     "text": [
      "Enter the marks:  95\n"
     ]
    },
    {
     "name": "stdout",
     "output_type": "stream",
     "text": [
      "Grade A\n"
     ]
    }
   ],
   "source": [
    "marks=int(input(\"Enter the marks: \"))\n",
    "if marks>90:\n",
    "    print(\"Grade A\")\n",
    "elif marks> 80 and marks<=90:\n",
    "    print(\"Grade B\")\n",
    "elif marks>=60 and marks<=80:\n",
    "    print(\"Grade C\")\n",
    "else:\n",
    "    print(\"Grade D\")"
   ]
  },
  {
   "cell_type": "markdown",
   "id": "9a52ce57-9300-422e-95fd-fecc29ef416b",
   "metadata": {},
   "source": [
    "Q-2.Write a program to accept the cost price of bike and display the road tax to be paid according to the following criteria"
   ]
  },
  {
   "cell_type": "code",
   "execution_count": 4,
   "id": "c0813a74-1f35-42fd-91ff-8ec1f7d701c2",
   "metadata": {},
   "outputs": [
    {
     "name": "stdin",
     "output_type": "stream",
     "text": [
      "Enter the cost price:  500\n"
     ]
    },
    {
     "name": "stdout",
     "output_type": "stream",
     "text": [
      "Road tax will be:  25.0\n"
     ]
    }
   ],
   "source": [
    "cost_price=int(input(\"Enter the cost price: \"))\n",
    "if cost_price>100000:\n",
    "    print(\"Road tax will be: \",(cost_price*0.15))\n",
    "elif cost_price>50000 and cost_price<=100000:\n",
    "    print(\"Road tax will be: \",(cost_price*0.1))\n",
    "else:\n",
    "    print(\"Road tax will be: \",(cost_price*0.05))"
   ]
  },
  {
   "cell_type": "markdown",
   "id": "10521ee9-bae0-4a57-a453-4ca0d63367c9",
   "metadata": {},
   "source": [
    "Q-3.Accept any city from the user and display monuments of that city"
   ]
  },
  {
   "cell_type": "code",
   "execution_count": 6,
   "id": "a16b9b62-6312-4d3a-8854-2535a62a3cc8",
   "metadata": {},
   "outputs": [
    {
     "name": "stdin",
     "output_type": "stream",
     "text": [
      "Enter the city name:  Delhi\n"
     ]
    },
    {
     "name": "stdout",
     "output_type": "stream",
     "text": [
      "Red Fort\n"
     ]
    }
   ],
   "source": [
    "city=input(\"Enter the city name: \")\n",
    "if city==\"Delhi\":\n",
    "    print(\"Red Fort\")\n",
    "elif city==\"Agra\":\n",
    "    print(\"Taj Mahal\")\n",
    "elif city==\"Jaipur\":\n",
    "    print(\"Jal Mahal\")"
   ]
  },
  {
   "cell_type": "markdown",
   "id": "5dc2dbb0-d2fe-4116-a1fa-75a2c30e3b84",
   "metadata": {},
   "source": [
    "Q-4. check how many times a given number can be divided by 3 before it is less than or equal to 10"
   ]
  },
  {
   "cell_type": "code",
   "execution_count": 12,
   "id": "40ba597a-4cd1-4527-b8e7-587ba66984ad",
   "metadata": {},
   "outputs": [
    {
     "name": "stdin",
     "output_type": "stream",
     "text": [
      "Enter the number:  50\n"
     ]
    },
    {
     "name": "stdout",
     "output_type": "stream",
     "text": [
      "it is divisible by  2  times\n"
     ]
    }
   ],
   "source": [
    "num=int(input(\"Enter the number: \"))\n",
    "count=0\n",
    "while (num)>10:\n",
    "    num/=3\n",
    "    count+=1\n",
    "print(\"it is divisible by \",count,\" times\")"
   ]
  },
  {
   "cell_type": "markdown",
   "id": "02990c56-ace3-43bb-a41f-1fa5f18fd06f",
   "metadata": {},
   "source": [
    "Why and when to use while loop in python give a detailed description with example\n"
   ]
  },
  {
   "cell_type": "markdown",
   "id": "d871a0ad-0172-4f8d-ad6d-ec7a13c62423",
   "metadata": {},
   "source": [
    "While loop is basically use for checking a particular condition whether it is true or false. Depending upon the condition we can enter into the loop inside. It is also called entry checking loop. "
   ]
  },
  {
   "cell_type": "code",
   "execution_count": 13,
   "id": "ba0a549a-743c-4292-a09f-1ec71061c247",
   "metadata": {},
   "outputs": [
    {
     "name": "stdout",
     "output_type": "stream",
     "text": [
      "0\n",
      "1\n",
      "2\n",
      "3\n",
      "4\n",
      "5\n",
      "6\n",
      "7\n",
      "8\n",
      "9\n",
      "10\n",
      "11\n",
      "12\n",
      "13\n",
      "14\n"
     ]
    }
   ],
   "source": [
    "# example of while loop\n",
    "i=0\n",
    "while i<15:\n",
    "    print(i)\n",
    "    i+=1"
   ]
  },
  {
   "cell_type": "code",
   "execution_count": 14,
   "id": "7aff2a6c-9a26-4fac-8b29-2f569612197f",
   "metadata": {},
   "outputs": [],
   "source": [
    "# Reverse a while loop to display numbers fom 10 to 1"
   ]
  },
  {
   "cell_type": "code",
   "execution_count": 15,
   "id": "c8dc7c1f-3119-41e6-8602-509b802d4568",
   "metadata": {},
   "outputs": [
    {
     "name": "stdout",
     "output_type": "stream",
     "text": [
      "10\n",
      "9\n",
      "8\n",
      "7\n",
      "6\n",
      "5\n",
      "4\n",
      "3\n",
      "2\n",
      "1\n"
     ]
    }
   ],
   "source": [
    "i=10\n",
    "while i!=0:\n",
    "    print(i)\n",
    "    i-=1"
   ]
  },
  {
   "cell_type": "code",
   "execution_count": null,
   "id": "1a222e24-261e-4131-9a29-83cc7e75d90c",
   "metadata": {},
   "outputs": [],
   "source": [
    "q"
   ]
  }
 ],
 "metadata": {
  "kernelspec": {
   "display_name": "Python 3 (ipykernel)",
   "language": "python",
   "name": "python3"
  },
  "language_info": {
   "codemirror_mode": {
    "name": "ipython",
    "version": 3
   },
   "file_extension": ".py",
   "mimetype": "text/x-python",
   "name": "python",
   "nbconvert_exporter": "python",
   "pygments_lexer": "ipython3",
   "version": "3.10.8"
  }
 },
 "nbformat": 4,
 "nbformat_minor": 5
}
